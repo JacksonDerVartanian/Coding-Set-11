{
  "metadata": {
    "language_info": {
      "codemirror_mode": {
        "name": "python",
        "version": 3
      },
      "file_extension": ".py",
      "mimetype": "text/x-python",
      "name": "python",
      "nbconvert_exporter": "python",
      "pygments_lexer": "ipython3",
      "version": "3.8"
    },
    "kernelspec": {
      "name": "python",
      "display_name": "Python (Pyodide)",
      "language": "python"
    }
  },
  "nbformat_minor": 4,
  "nbformat": 4,
  "cells": [
    {
      "cell_type": "code",
      "source": "# Complete Employee and ProductionWorker Classes with Main Function\n\nclass Employee:\n# Basic Employee Class\n# Define the Employee class with basic attributes and getters/setters.\n    def __init__(self, name, emp_number):\n        self._name = name\n        self._emp_number = emp_number\n\n    @property\n    def name(self):\n        return self._name\n\n    @property\n    def emp_number(self):\n        return self._emp_number\n\n    @name.setter\n    def name(self, name):\n        self._name = name\n\n    @emp_number.setter\n    def emp_number(self, emp_number):\n        self._emp_number = emp_number\n\n# Display Employee Information\n# Add a method to the Employee class to display employee information.\n    def display_employee_info(self):\n        \"\"\"Display employee information.\"\"\"\n        print(f\"Employee Information:\\nName: {self.name}\\nEmployee Number: {self.emp_number}\")\n\n\nclass ProductionWorker(Employee):\n# ProductionWorker Class with Specialized Attributes\n# Create a ProductionWorker class that inherits from Employee, adding specialized attributes.\n    def __init__(self, name, emp_number, shift, hourly_rate):\n        super().__init__(name, emp_number)\n        self._shift = shift\n        self._hourly_rate = hourly_rate\n\n    @property\n    def shift(self):\n        return self._shift\n\n    @property\n    def hourly_rate(self):\n        return self._hourly_rate\n\n    @shift.setter\n    def shift(self, shift):\n        self._shift = shift\n\n    @hourly_rate.setter\n    def hourly_rate(self, hourly_rate):\n        self._hourly_rate = hourly_rate\n\n# Calculate Weekly Salary\n# Add a method to the ProductionWorker class to calculate the weekly salary based on hours worked.\n    def calculate_weekly_salary(self, hours_worked):\n        \"\"\"Calculate the weekly salary based on hours worked.\"\"\"\n        return self.hourly_rate * hours_worked\n\n\n# Main Function and User Input\n# Create a main function to interact with the user and demonstrate class functionality.\ndef main():\n    # Get user input\n    name = input(\"Enter employee name: \")\n    emp_number = input(\"Enter employee number: \")\n    shift = int(input(\"Enter shift (1 for day, 2 for night): \"))\n    hourly_rate = float(input(\"Enter hourly pay rate: \"))\n\n# Create a ProductionWorker object\n    worker = ProductionWorker(name, emp_number, shift, hourly_rate)\n\n# Display Basic Employee Information\n# Display basic employee information using properties.\n    print(\"\\nBasic Employee Information:\")\n    print(\"Name:\", worker.name)\n    print(\"Employee Number:\", worker.emp_number)\n\n# Display Additional Information\n# Utilize the display_employee_info method to show more detailed employee information.\n# Additional information display\n    worker.display_employee_info()\n\n# Additional Functionality for ProductionWorker\n# Demonstrate additional functionality for ProductionWorker, such as calculating weekly salary.\n# Additional functionality for ProductionWorker\n    hours_worked = float(input(\"Enter hours worked in a week: \"))\n    weekly_salary = worker.calculate_weekly_salary(hours_worked)\n    print(\"Weekly Salary: ${:.2f}\".format(weekly_salary))\n\n\nif __name__ == \"__main__\":\n    main()\n",
      "metadata": {},
      "execution_count": null,
      "outputs": []
    }
  ]
}