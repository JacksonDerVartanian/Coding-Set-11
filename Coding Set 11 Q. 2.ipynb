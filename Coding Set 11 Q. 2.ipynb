{
  "metadata": {
    "language_info": {
      "codemirror_mode": {
        "name": "python",
        "version": 3
      },
      "file_extension": ".py",
      "mimetype": "text/x-python",
      "name": "python",
      "nbconvert_exporter": "python",
      "pygments_lexer": "ipython3",
      "version": "3.8"
    },
    "kernelspec": {
      "name": "python",
      "display_name": "Python (Pyodide)",
      "language": "python"
    }
  },
  "nbformat_minor": 4,
  "nbformat": 4,
  "cells": [
    {
      "cell_type": "code",
      "source": "# Basic Employee Class\n# Define the Employee class with basic attributes and getters/setters.\nclass Employee:\n    def __init__(self, name, emp_number):\n        self._name = name\n        self._emp_number = emp_number\n\n    @property\n    def name(self):\n        return self._name\n\n    @property\n    def emp_number(self):\n        return self._emp_number\n\n    @name.setter\n    def name(self, name):\n        self._name = name\n\n    @emp_number.setter\n    def emp_number(self, emp_number):\n        self._emp_number = emp_number\n\n    def display_employee_info(self):\n        \"\"\"Display employee information.\"\"\"\n        print(f\"Employee Information:\\nName: {self.name}\\nEmployee Number: {self.emp_number}\")\n\n\n# ProductionWorker Class\n# Define the ProductionWorker class, a subclass of Employee.\n# Includes attributes for shift and hourly rate, along with a method to calculate weekly salary.\nclass ProductionWorker(Employee):\n    def __init__(self, name, emp_number, shift, hourly_rate):\n        super().__init__(name, emp_number)\n        self._shift = shift\n        self._hourly_rate = hourly_rate\n\n    @property\n    def shift(self):\n        return self._shift\n\n    @property\n    def hourly_rate(self):\n        return self._hourly_rate\n\n    @shift.setter\n    def shift(self, shift):\n        self._shift = shift\n\n    @hourly_rate.setter\n    def hourly_rate(self, hourly_rate):\n        self._hourly_rate = hourly_rate\n\n    def calculate_weekly_salary(self, hours_worked):\n        \"\"\"Calculate the weekly salary based on hours worked.\"\"\"\n        return self.hourly_rate * hours_worked\n\n\n# ShiftSupervisor Class\n# Define the ShiftSupervisor class, a subclass of Employee.\n# Adds attributes for annual salary and annual production bonus.\nclass ShiftSupervisor(Employee):\n    def __init__(self, name, emp_number, annual_salary, annual_production_bonus):\n        super().__init__(name, emp_number)\n        self._annual_salary = annual_salary\n        self._annual_production_bonus = annual_production_bonus\n\n    @property\n    def annual_salary(self):\n        return self._annual_salary\n\n    @property\n    def annual_production_bonus(self):\n        return self._annual_production_bonus\n\n    @annual_salary.setter\n    def annual_salary(self, annual_salary):\n        self._annual_salary = annual_salary\n\n    @annual_production_bonus.setter\n    def annual_production_bonus(self, annual_production_bonus):\n        self._annual_production_bonus = annual_production_bonus\n\n    def display_shift_supervisor_info(self):\n        \"\"\"Display shift supervisor information.\"\"\"\n        print(f\"Shift Supervisor Information:\")\n        print(f\"Name: {self.name}\")\n        print(f\"Employee Number: {self.emp_number}\")\n        print(f\"Annual Salary: ${self.annual_salary}\")\n        print(f\"Annual Production Bonus: ${self.annual_production_bonus}\")\n\n\n# Main Function\n# Define a main function to interact with the user and demonstrate class functionality.\ndef main():\n    # Get user input for a ShiftSupervisor\n    name = input(\"Enter supervisor name: \")\n    emp_number = input(\"Enter supervisor employee number: \")\n    annual_salary = float(input(\"Enter annual salary: \"))\n    annual_production_bonus = float(input(\"Enter annual production bonus: \"))\n\n    # Create a ShiftSupervisor object\n    supervisor = ShiftSupervisor(name, emp_number, annual_salary, annual_production_bonus)\n\n    # Display shift supervisor information\n    supervisor.display_shift_supervisor_info()\n\n\n# Main Program Execution\n# Execute the main program when the script is run.\nif __name__ == \"__main__\":\n    main()\n    ",
      "metadata": {},
      "execution_count": null,
      "outputs": []
    }
  ]
}